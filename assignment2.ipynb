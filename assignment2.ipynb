#QUESTION 1

import numpy as np
a = np.random.randint(1,20,(15)) #random and randint function to create vector with random numbers
print(a)
a = a.reshape(3,5) #reshaping vector into 3 by 5 array
print(a)
for i in a:
    i[np.where(i==i.max())]=0 #replaced max values of each row with 0
print(a) 
